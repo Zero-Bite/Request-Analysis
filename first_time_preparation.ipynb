{
  "cells": [
    {
      "cell_type": "markdown",
      "metadata": {
        "id": "R57lQpzZS_gW"
      },
      "source": [
        "Перед запуском ячеек необходимо добавить файлы:\n",
        "\n",
        "\n",
        "1.   Контракты 44ФЗ.csv\n",
        "2.   Справочник...\n",
        "3.   Ценовые...\n",
        "4.   country_directory.csv\n",
        "\n"
      ]
    },
    {
      "cell_type": "code",
      "execution_count": 11,
      "metadata": {
        "colab": {
          "base_uri": "https://localhost:8080/"
        },
        "id": "OyG6McqNNuNc",
        "outputId": "7191f999-5dcf-4e14-b12b-ee460293f300"
      },
      "outputs": [
        {
          "output_type": "stream",
          "name": "stdout",
          "text": [
            "Looking in indexes: https://pypi.org/simple, https://us-python.pkg.dev/colab-wheels/public/simple/\n",
            "Requirement already satisfied: pymorphy2 in /usr/local/lib/python3.7/dist-packages (0.9.1)\n",
            "Requirement already satisfied: docopt>=0.6 in /usr/local/lib/python3.7/dist-packages (from pymorphy2) (0.6.2)\n",
            "Requirement already satisfied: dawg-python>=0.7.1 in /usr/local/lib/python3.7/dist-packages (from pymorphy2) (0.7.2)\n",
            "Requirement already satisfied: pymorphy2-dicts-ru<3.0,>=2.4 in /usr/local/lib/python3.7/dist-packages (from pymorphy2) (2.4.417127.4579844)\n"
          ]
        }
      ],
      "source": [
        "! pip install pymorphy2"
      ]
    },
    {
      "cell_type": "code",
      "execution_count": 12,
      "metadata": {
        "id": "g6yzqLelNF39"
      },
      "outputs": [],
      "source": [
        "import pandas\n",
        "import pymorphy2"
      ]
    },
    {
      "cell_type": "code",
      "execution_count": null,
      "metadata": {
        "id": "i6WU-tBENPUU"
      },
      "outputs": [],
      "source": [
        "data = pandas.read_csv('/content/Контракты 44ФЗ.csv', sep=';')"
      ]
    },
    {
      "cell_type": "code",
      "execution_count": null,
      "metadata": {
        "id": "lrSdGgbvNkGw"
      },
      "outputs": [],
      "source": [
        "import pandas\n",
        "import pymorphy2\n",
        "\n",
        "ABC = ['a', 'b', 'c', 'd', 'e', 'f', 'g', 'h', 'i', 'j', 'k', 'l', 'm', 'n', 'o', 'p', 'q', 'r', 's', 't', 'u', 'v', 'w', 'x', 'y', 'z', 'а', 'б', 'в', 'г', 'д', 'е', 'ж', 'з', 'и', 'й', 'к', 'л', 'м', 'н', 'о', 'п', 'р', 'с', 'т', 'у', 'ф', 'х', 'ц', 'ч', 'ш', 'щ', 'ъ', 'ы', 'ь', 'э', 'ю', 'я', 'ё', '1', '2', '3', '4', '5', '6', '7', '8', '9', '0']\n",
        "ABC_up = ['A', 'B', 'C', 'D', 'E', 'F', 'G', 'H', 'I', 'J', 'K', 'L', 'M', 'N', 'O', 'P', 'Q', 'R', 'S', 'T', 'U', 'V', 'W', 'X', 'Y', 'Z', 'А', 'Б', 'В', 'Г', 'Д', 'Е', 'Ж', 'З', 'И', 'Й', 'К', 'Л', 'М', 'Н', 'О', 'П', 'Р', 'С', 'Т', 'У', 'Ф', 'Х', 'Ц', 'Ч', 'Ш', 'Щ', 'Ъ', 'Ы', 'Ь', 'Э', 'Ю', 'Я', 'Ё']\n",
        "\n",
        "\n",
        "counter_of_lines = 0 # индексирование строк\n",
        "morhy = pymorphy2.MorphAnalyzer()\n",
        "\n",
        "data['noun_words'] = ' '\n",
        "data['adjective_words'] = ' '\n",
        "data['another_words'] = ' '\n",
        "\n",
        "\n",
        "\n",
        "for item in list(data.product_name):\n",
        "    root_of_noun = ''\n",
        "    root_of_adjf_and_prtf = ''\n",
        "    root_of_else = ''\n",
        "    for element in item.split():\n",
        "      new_elem = element\n",
        "      element = ''\n",
        "      for i in new_elem:\n",
        "        if i in ABC or i in ABC_up:\n",
        "          element += i\n",
        "      \n",
        "      if not element in ['для', 'на', 'с', 'без', 'к', 'и']:\n",
        "        element = morhy.parse(element)[0]\n",
        "\n",
        "        if element.tag.POS == 'NOUN':\n",
        "            # существительное дропаем в колонку с существиетельными как новую строку\n",
        "            root_of_noun += element.normal_form + ' '\n",
        "        elif element.tag.POS == 'ADJF' or element.tag.POS == 'PRTF':\n",
        "            # прилагательное в колонку с прилагательными\n",
        "            root_of_adjf_and_prtf += element.normal_form + ' '\n",
        "        else:\n",
        "            root_of_else += element.normal_form + ' '\n",
        "\n",
        "    data.noun_words[counter_of_lines] = root_of_noun\n",
        "    data.adjective_words[counter_of_lines] = root_of_adjf_and_prtf\n",
        "    data.another_words[counter_of_lines] = root_of_else\n",
        "\n",
        "    counter_of_lines += 1\n"
      ]
    },
    {
      "cell_type": "code",
      "execution_count": null,
      "metadata": {
        "id": "cnnbT5UbN8ID"
      },
      "outputs": [],
      "source": [
        "data.to_csv('all_data_prepared.csv')"
      ]
    },
    {
      "cell_type": "code",
      "execution_count": null,
      "metadata": {
        "id": "fmrrS9kKOCP8"
      },
      "outputs": [],
      "source": [
        "def county_range(data_list):  # ранжирует страны по упомянаемсти в данных\n",
        "    my_lib = {}\n",
        "    for i in list(data_list):\n",
        "        try:\n",
        "            for j in i.split('|'):\n",
        "                if j not in my_lib:\n",
        "                    my_lib[j] = 0\n",
        "                my_lib[j] += 1\n",
        "\n",
        "        except Exception:\n",
        "            pass\n",
        "\n",
        "    return [i[0] for i in sorted(my_lib.items(), key=lambda x: x[1], reverse=True)]  # list id стран в порядке убывания\n"
      ]
    },
    {
      "cell_type": "code",
      "execution_count": null,
      "metadata": {
        "id": "VdgU2e7TRZND"
      },
      "outputs": [],
      "source": [
        "import os"
      ]
    },
    {
      "cell_type": "code",
      "execution_count": null,
      "metadata": {
        "id": "iJOM-V64T0Dw"
      },
      "outputs": [],
      "source": [
        "countries = county_range(data.country_code)\n",
        "countries"
      ]
    },
    {
      "cell_type": "code",
      "execution_count": null,
      "metadata": {
        "id": "sRYLoWt1T8Z6"
      },
      "outputs": [],
      "source": [
        "country_data = pandas.read_csv('/content/country_directory.csv', sep=';')\n",
        "countries_names = []\n",
        "for i in countries:\n",
        "  q = list(country_data.country_iso_code).index(float(i))\n",
        "  countries_names.append(country_data.country_name[q])\n",
        "countries_names"
      ]
    },
    {
      "cell_type": "code",
      "execution_count": null,
      "metadata": {
        "id": "p7ejaTLcV-3o"
      },
      "outputs": [],
      "source": [
        "with open('county_range.csv', 'w') as file:\n",
        "  file.write(';'.join(countries_names))"
      ]
    },
    {
      "cell_type": "markdown",
      "metadata": {
        "id": "jLIc0CtsSExa"
      },
      "source": [
        "После выполнения всех блоков кода необходимо переместить полученные файлы в pycharm для демонстрации алгоритма поиска в pyqt5\n",
        "\n",
        "В реальном проекте сервис был бы на серверах и все было бы автоматизированно"
      ]
    }
  ],
  "metadata": {
    "colab": {
      "provenance": []
    },
    "kernelspec": {
      "display_name": "Python 3",
      "name": "python3"
    },
    "language_info": {
      "name": "python"
    }
  },
  "nbformat": 4,
  "nbformat_minor": 0
}